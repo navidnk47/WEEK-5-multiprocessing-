{
 "cells": [
  {
   "cell_type": "code",
   "execution_count": null,
   "id": "de22f788-dfb1-4d35-a0fc-bd625f86296e",
   "metadata": {},
   "outputs": [],
   "source": [
    "Q1. What is multiprocessing in python? Why is it useful?"
   ]
  },
  {
   "cell_type": "code",
   "execution_count": null,
   "id": "a1bedf43-42a4-452c-8bec-78dde7032341",
   "metadata": {},
   "outputs": [],
   "source": [
    "multiprocessing is a Python library that allows you to run multiple processes simultaneously. This can be useful for tasks that are CPU-intensive or that require a lot of memory.\n",
    "To use multiprocessing, you first need to create a Pool object. This object will manage the creation and execution of your processes. You can then pass tasks to the Pool object, and \n",
    "it will start them in parallel."
   ]
  },
  {
   "cell_type": "code",
   "execution_count": 1,
   "id": "eb4e3fd8-8949-46ed-ad7d-e8eb863abf24",
   "metadata": {},
   "outputs": [],
   "source": [
    "import  multiprocessing\n",
    "def test():\n",
    "    print(\"this is my multiprocessing prog\")\n",
    "    \n",
    "if __name__ == '__main__ ':\n",
    "    m = multiprocessing.Process(target=test)\n",
    "    print(\"this is my main program\")\n",
    "    m.start()\n",
    "    m.joint()"
   ]
  },
  {
   "cell_type": "code",
   "execution_count": 2,
   "id": "e3dbb992-c393-4e70-b547-3738152821f0",
   "metadata": {},
   "outputs": [
    {
     "name": "stdout",
     "output_type": "stream",
     "text": [
      "this is my multiprocessing prog\n"
     ]
    }
   ],
   "source": [
    "test()"
   ]
  },
  {
   "cell_type": "code",
   "execution_count": null,
   "id": "a23ef154-43cb-465f-9e5e-b1e3c16bc53f",
   "metadata": {},
   "outputs": [],
   "source": []
  },
  {
   "cell_type": "code",
   "execution_count": null,
   "id": "be839f86-3796-40c8-9027-754ee290a2b6",
   "metadata": {},
   "outputs": [],
   "source": [
    "Q2. What are the differences between multiprocessing and multithreading?"
   ]
  },
  {
   "cell_type": "code",
   "execution_count": null,
   "id": "8f53e915-75a4-4ec6-b1e4-bf9a87e2683e",
   "metadata": {},
   "outputs": [],
   "source": [
    "Multiprocessing and multithreading are two types of function to run multiple tasks at the same time . Both techniques can improve the performance of your code, \n",
    "but they have different advantages and disadvantages.\n",
    "\n",
    "\n",
    "**Multiprocessing**\n",
    "Multiprocessing uses multiple processes to run tasks. Each process has its own memory space, so they can't share data directly. \n",
    "However, they can communicate with each other using shared memory or message passing.\n",
    "Multiprocessing is generally faster than multithreading, because each process has its own CPU core. However,\n",
    "it can also be more complex to set up and manage.\n",
    "\n",
    "\n",
    "**Multithreading**\n",
    "Multithreading uses multiple threads to run tasks. Threads share the same memory space, so they can share data directly. However,\n",
    "they can also interfere with each other if they are not careful.\n",
    "Multithreading is generally easier to set up and manage than multiprocessing. However, it is not as fast,\n",
    "because all of the threads are running on the same CPU core."
   ]
  },
  {
   "cell_type": "code",
   "execution_count": null,
   "id": "deccdda0-97d3-4e8e-9882-bb63f0ad509c",
   "metadata": {},
   "outputs": [],
   "source": []
  },
  {
   "cell_type": "code",
   "execution_count": null,
   "id": "f31f50cd-e0a9-41e6-8323-589cd34ebae8",
   "metadata": {},
   "outputs": [],
   "source": [
    "Q3. Write a python code to create a process using the multiprocessing module."
   ]
  },
  {
   "cell_type": "code",
   "execution_count": 3,
   "id": "7cf4058d-d80a-442c-bfe5-8236b32aad61",
   "metadata": {},
   "outputs": [],
   "source": [
    "import  multiprocessing\n",
    "def test():\n",
    "    print(\"this is my multiprocessing prog\")\n",
    "    \n",
    "if __name__ == '__main__ ':\n",
    "    m = multiprocessing.Process(target=test)\n",
    "    print(\"this is my main program\")\n",
    "    m.start()\n",
    "    m.joint()"
   ]
  },
  {
   "cell_type": "code",
   "execution_count": 4,
   "id": "8e7ac922-8e9f-4994-86e5-d2fb12bbeaa8",
   "metadata": {},
   "outputs": [
    {
     "name": "stdout",
     "output_type": "stream",
     "text": [
      "this is my multiprocessing prog\n"
     ]
    }
   ],
   "source": [
    "test()"
   ]
  },
  {
   "cell_type": "code",
   "execution_count": null,
   "id": "282797c5-00a7-4260-b3e2-610449443dc7",
   "metadata": {},
   "outputs": [],
   "source": []
  },
  {
   "cell_type": "code",
   "execution_count": null,
   "id": "4d4dd117-f57b-4f7e-ae0f-33e56c5fddc7",
   "metadata": {},
   "outputs": [],
   "source": [
    "Q4. What is a multiprocessing pool in python? Why is it used?"
   ]
  },
  {
   "cell_type": "code",
   "execution_count": null,
   "id": "f6208f4d-3028-4b21-90eb-ceb14b973dd4",
   "metadata": {},
   "outputs": [],
   "source": [
    "A multiprocessing pool is a group of processes that can be used to run tasks in parallel. It is used to speed up the execution of \n",
    "code by dividing it into smaller tasks that can berun simultaneously."
   ]
  },
  {
   "cell_type": "code",
   "execution_count": null,
   "id": "a7bcc7cb-37fa-4e49-a8dd-c673b3cc20df",
   "metadata": {},
   "outputs": [],
   "source": []
  },
  {
   "cell_type": "code",
   "execution_count": null,
   "id": "bc62fb1d-b4db-43df-8fa5-fe56c486ddbf",
   "metadata": {},
   "outputs": [],
   "source": [
    "Q5. How can we create a pool of worker processes in python using the multiprocessing module?"
   ]
  },
  {
   "cell_type": "code",
   "execution_count": 6,
   "id": "5961d9e1-6135-4e7e-b4c9-91a748920ca7",
   "metadata": {},
   "outputs": [
    {
     "name": "stdout",
     "output_type": "stream",
     "text": [
      "[1, 4, 9, 16, 25, 36, 49, 64, 81]\n"
     ]
    }
   ],
   "source": [
    "def square(n):\n",
    "    return n**2\n",
    "\n",
    "if __name__ == '__main__' :\n",
    "    with multiprocessing.Pool(processes=4) as pool :\n",
    "        out=pool.map(square, [1,2,3,4,5,6,7,8,9])\n",
    "        print(out)\n",
    "        "
   ]
  },
  {
   "cell_type": "code",
   "execution_count": null,
   "id": "01cda854-63e7-45b6-a00f-35da4af84e8d",
   "metadata": {},
   "outputs": [],
   "source": []
  },
  {
   "cell_type": "code",
   "execution_count": null,
   "id": "cfaf5e89-a060-4cac-9e41-010b9d5e5959",
   "metadata": {},
   "outputs": [],
   "source": [
    "Q6. Write a python program to create 4 processes, each process should print a different number using the multiprocessing module in python."
   ]
  },
  {
   "cell_type": "code",
   "execution_count": null,
   "id": "885292f4-b2d0-4f94-8c0d-aeca893529ba",
   "metadata": {},
   "outputs": [
    {
     "name": "stdout",
     "output_type": "stream",
     "text": [
      "navid\n",
      "mustaqueem\n",
      "adnan\n",
      "navid\n"
     ]
    }
   ],
   "source": [
    "import multiprocessing \n",
    "def producer(q):\n",
    "    for i in [\"navid\" , \"mustaqueem\", \"adnan\"]:\n",
    "        q.put(i)\n",
    "\n",
    "def consume(q) :\n",
    "    while True :\n",
    "        item = q.get()\n",
    "        if item is None :\n",
    "            break\n",
    "        print(item)\n",
    "\n",
    "if __name__ == '__main__' :\n",
    "    queue = multiprocessing.Queue()\n",
    "    m1 =multiprocessing.Process(target = producer , args =(queue ,))\n",
    "    m2 =multiprocessing.Process(target = consume , args =(queue ,))\n",
    "    m1.start()\n",
    "    m2.start()\n",
    "    queue.put(\"navid\")\n",
    "    m1.join()\n",
    "    m2.join()\n",
    "    "
   ]
  }
 ],
 "metadata": {
  "kernelspec": {
   "display_name": "Python 3 (ipykernel)",
   "language": "python",
   "name": "python3"
  },
  "language_info": {
   "codemirror_mode": {
    "name": "ipython",
    "version": 3
   },
   "file_extension": ".py",
   "mimetype": "text/x-python",
   "name": "python",
   "nbconvert_exporter": "python",
   "pygments_lexer": "ipython3",
   "version": "3.10.8"
  }
 },
 "nbformat": 4,
 "nbformat_minor": 5
}
